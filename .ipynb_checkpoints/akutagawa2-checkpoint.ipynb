{
 "cells": [
  {
   "cell_type": "code",
   "execution_count": 2,
   "metadata": {},
   "outputs": [
    {
     "ename": "NameError",
     "evalue": "name 'MeCab' is not defined",
     "output_type": "error",
     "traceback": [
      "\u001b[0;31m---------------------------------------------------------------------------\u001b[0m",
      "\u001b[0;31mNameError\u001b[0m                                 Traceback (most recent call last)",
      "\u001b[0;32m<ipython-input-2-29c94afa4700>\u001b[0m in \u001b[0;36m<module>\u001b[0;34m\u001b[0m\n\u001b[1;32m     41\u001b[0m \u001b[0mtestdf\u001b[0m\u001b[0;34m.\u001b[0m\u001b[0mbody\u001b[0m\u001b[0;34m=\u001b[0m\u001b[0mtestdf\u001b[0m\u001b[0;34m.\u001b[0m\u001b[0mbody\u001b[0m\u001b[0;34m.\u001b[0m\u001b[0mmap\u001b[0m\u001b[0;34m(\u001b[0m\u001b[0mparse_text\u001b[0m\u001b[0;34m)\u001b[0m\u001b[0;34m\u001b[0m\u001b[0;34m\u001b[0m\u001b[0m\n\u001b[1;32m     42\u001b[0m \u001b[0my\u001b[0m \u001b[0;34m=\u001b[0m \u001b[0mdf\u001b[0m\u001b[0;34m[\u001b[0m\u001b[0;34m'author'\u001b[0m\u001b[0;34m]\u001b[0m\u001b[0;34m.\u001b[0m\u001b[0mvalues\u001b[0m\u001b[0;34m\u001b[0m\u001b[0;34m\u001b[0m\u001b[0m\n\u001b[0;32m---> 43\u001b[0;31m \u001b[0mmecab\u001b[0m \u001b[0;34m=\u001b[0m \u001b[0mMeCab\u001b[0m\u001b[0;34m.\u001b[0m\u001b[0mTagger\u001b[0m\u001b[0;34m(\u001b[0m\u001b[0;34m'-Owakati'\u001b[0m\u001b[0;34m)\u001b[0m\u001b[0;34m\u001b[0m\u001b[0;34m\u001b[0m\u001b[0m\n\u001b[0m\u001b[1;32m     44\u001b[0m \u001b[0mcount\u001b[0m \u001b[0;34m=\u001b[0m \u001b[0mCountVectorizer\u001b[0m\u001b[0;34m(\u001b[0m\u001b[0manalyzer\u001b[0m\u001b[0;34m=\u001b[0m\u001b[0mtokenize1\u001b[0m\u001b[0;34m)\u001b[0m\u001b[0;34m\u001b[0m\u001b[0;34m\u001b[0m\u001b[0m\n\u001b[1;32m     45\u001b[0m \u001b[0mbags\u001b[0m \u001b[0;34m=\u001b[0m \u001b[0mcount\u001b[0m\u001b[0;34m.\u001b[0m\u001b[0mfit_transform\u001b[0m\u001b[0;34m(\u001b[0m\u001b[0mdf\u001b[0m\u001b[0;34m.\u001b[0m\u001b[0mbody\u001b[0m\u001b[0;34m.\u001b[0m\u001b[0mvalues\u001b[0m\u001b[0;34m)\u001b[0m\u001b[0;34m\u001b[0m\u001b[0;34m\u001b[0m\u001b[0m\n",
      "\u001b[0;31mNameError\u001b[0m: name 'MeCab' is not defined"
     ]
    }
   ],
   "source": [
    "import pandas as pd\n",
    "import warnings\n",
    "warnings.filterwarnings('ignore')\n",
    "import mojimoji\n",
    "import re\n",
    "import jaconv\n",
    "import numpy as np\n",
    "from sklearn.feature_extraction.text import CountVectorizer\n",
    "from sklearn.model_selection import train_test_split\n",
    "from sklearn.linear_model import LogisticRegression\n",
    "import pandas as pd\n",
    "import warnings\n",
    "from sklearn import preprocessing\n",
    "def parse_text(text, debug=False):\n",
    "    text = re.sub(r'［[^］]+］', ' ', text)  \n",
    "#     text = re.sub(r'（[^）]+）', ' ', text)  \n",
    "    text = re.sub(r'○', ' ', text)    \n",
    "    text = re.sub(r'×', '', text)\n",
    "    text = re.sub(r'※', '', text)    \n",
    "#     text = re.sub(r'｜', ' ', text)\n",
    "    text = re.sub(r'[\\s、]', '' , text)\n",
    "#     text = re.sub(r'一', ' ', text)\n",
    "#     text = re.sub(r'…', ' ', text)  \n",
    "#     text = re.sub(r'―', ' ', text)\n",
    "    text = re.sub(r'[0-9]', '0', text)\n",
    "    return text\n",
    "\n",
    "def tokenize1(text):\n",
    "    available_norm = ['接尾', '一般', '形容動詞語幹', 'サ変接続']\n",
    "    node = mecab.parseToNode(text)\n",
    "    l = []\n",
    "    while node:\n",
    "        l.append(node.surface)\n",
    "        node = node.next\n",
    "    return l\n",
    "traindf=pd.read_csv(\"data/train.csv\")\n",
    "testdf=pd.read_csv(\"data/test.csv\")\n",
    "df=pd.concat([traindf,testdf])\n",
    "df.body=df.body.map(parse_text)\n",
    "traindf.body=traindf.body.map(parse_text)\n",
    "testdf.body=testdf.body.map(parse_text)\n",
    "y = df['author'].values\n",
    "mecab = MeCab.Tagger('-Owakati')\n",
    "count = CountVectorizer(analyzer=tokenize1)\n",
    "bags = count.fit_transform(df.body.values)\n",
    "\n",
    "features = count.get_feature_names()\n",
    "\n",
    "bodyvec = pd.DataFrame(bags.toarray(), columns=features)\n",
    "wordbody=bodyvec.sum().sort_values(ascending=False)\n",
    "bodyvec1 = bodyvec[list(wordbody[wordbody > 100].index)]\n",
    "xsum = bodyvec1.sum(axis=1)\n",
    "\n",
    "xsum = np.array(xsum).reshape(len(xsum), 1)\n",
    "newdf = pd.concat([df.reset_index(drop=True), pd.DataFrame(bodyvec1/xsum*100)], axis=1)\n",
    "train=newdf.dropna().drop([\"writing_id\",\"body\",],axis=1)\n",
    "test=newdf[newdf.author.isnull()].drop([\"writing_id\",\"body\"],axis=1)\n",
    "test=test.drop([\"author\"],axis=1)\n",
    "X = train.drop([\"author\"],axis=1)\n",
    "y = train.author\n",
    "\n",
    "mmscaler = preprocessing.MinMaxScaler()\n",
    "\n",
    "mmscaler.fit(pd.concat([X,test]))\n",
    "X = mmscaler.transform(X)\n",
    "test= mmscaler.transform(test)\n"
   ]
  },
  {
   "cell_type": "code",
   "execution_count": null,
   "metadata": {},
   "outputs": [],
   "source": [
    "train_X, test_X, train_y, test_y = train_test_split(X, y, test_size = 0.3, random_state = 0) # 80%のデータを学習データに、20%を検証データにする\n"
   ]
  }
 ],
 "metadata": {
  "kernelspec": {
   "display_name": "Python 3",
   "language": "python",
   "name": "python3"
  },
  "language_info": {
   "codemirror_mode": {
    "name": "ipython",
    "version": 3
   },
   "file_extension": ".py",
   "mimetype": "text/x-python",
   "name": "python",
   "nbconvert_exporter": "python",
   "pygments_lexer": "ipython3",
   "version": "3.7.5"
  }
 },
 "nbformat": 4,
 "nbformat_minor": 2
}
